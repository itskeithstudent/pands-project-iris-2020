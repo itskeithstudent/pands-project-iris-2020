{
 "cells": [
  {
   "cell_type": "markdown",
   "metadata": {},
   "source": [
    "## In this notebook I'm going to try use Decision Tree's\n",
    "\n",
    "The idea here is that I'm going to use a simple decision tree model to try to determine what flower species it is given a couple of columns that represent the species characteristics\n",
    "\n",
    "With a decision Tree we need to define some things up front, our features/variables/arguments which are basically describing what values our category (Species) has, so we are going to try and see can we determine the correct species using just a few values and with what level of accuracy we can make such predictions."
   ]
  },
  {
   "cell_type": "code",
   "execution_count": 157,
   "metadata": {},
   "outputs": [
    {
     "data": {
      "text/plain": [
       "DecisionTreeRegressor(criterion='mse', max_depth=None, max_features=None,\n",
       "           max_leaf_nodes=None, min_impurity_decrease=0.0,\n",
       "           min_impurity_split=None, min_samples_leaf=1,\n",
       "           min_samples_split=2, min_weight_fraction_leaf=0.0,\n",
       "           presort=False, random_state=0, splitter='best')"
      ]
     },
     "execution_count": 157,
     "metadata": {},
     "output_type": "execute_result"
    }
   ],
   "source": [
    "import pandas as pd\n",
    "from sklearn.tree import DecisionTreeRegressor #specify the model\n",
    "\n",
    "#iris_df is the dataframe storing the full iris dataset\n",
    "iris_df = pd.read_csv('..\\iris-flower-dataset\\IRIS.csv')\n",
    "\n",
    "y = iris_df['species']\n",
    "\n",
    "#Features, these are my columns of interest that I think will factor into determining flower species\n",
    "feature_names = ['petal_width', 'petal_length', 'sepal_width', 'sepal_length']\n",
    "\n",
    "#X is a dataframe of just the columns from feature_names\n",
    "X = iris_df[feature_names]\n",
    "\n",
    "#for getting my y we can't use categorical values like a named species, but we can convert this to a number equivalent\n",
    "cat_conversion = {'Iris-setosa': 0, \"Iris-versicolor\":1, \"Iris-virginica\":2}\n",
    "\n",
    "y.replace(cat_conversion, inplace=True)\n",
    "\n",
    "#define iris_model object from DecisionTreeRegressor, using random_state=0 as it makes the result consistent\n",
    "iris_model = DecisionTreeRegressor(random_state=0)\n",
    "\n",
    "iris_model.fit(X,y)\n"
   ]
  },
  {
   "cell_type": "markdown",
   "metadata": {},
   "source": [
    "By this point we've:\n",
    "- Loaded in our dataset\n",
    "- Defined our y which is the Species, this is the value we want to determine from our features\n",
    "- Defined our features for which I'm using all remaining columns\n",
    "- I convert the the Species to numeric equivalents as the model can't work with strings\n",
    "- I define a Decision Tree Regressor Object\n",
    "- Fit the model"
   ]
  },
  {
   "cell_type": "code",
   "execution_count": 158,
   "metadata": {},
   "outputs": [
    {
     "name": "stdout",
     "output_type": "stream",
     "text": [
      "[0. 0. 0. 0. 0. 0. 0. 0. 0. 0. 0. 0. 0. 0. 0. 0. 0. 0. 0. 0. 0. 0. 0. 0.\n",
      " 0. 0. 0. 0. 0. 0. 0. 0. 0. 0. 0. 0. 0. 0. 0. 0. 0. 0. 0. 0. 0. 0. 0. 0.\n",
      " 0. 0. 1. 1. 1. 1. 1. 1. 1. 1. 1. 1. 1. 1. 1. 1. 1. 1. 1. 1. 1. 1. 1. 1.\n",
      " 1. 1. 1. 1. 1. 1. 1. 1. 1. 1. 1. 1. 1. 1. 1. 1. 1. 1. 1. 1. 1. 1. 1. 1.\n",
      " 1. 1. 1. 1. 2. 2. 2. 2. 2. 2. 2. 2. 2. 2. 2. 2. 2. 2. 2. 2. 2. 2. 2. 2.\n",
      " 2. 2. 2. 2. 2. 2. 2. 2. 2. 2. 2. 2. 2. 2. 2. 2. 2. 2. 2. 2. 2. 2. 2. 2.\n",
      " 2. 2. 2. 2. 2. 2.]\n",
      "0      0\n",
      "1      0\n",
      "2      0\n",
      "3      0\n",
      "4      0\n",
      "5      0\n",
      "6      0\n",
      "7      0\n",
      "8      0\n",
      "9      0\n",
      "10     0\n",
      "11     0\n",
      "12     0\n",
      "13     0\n",
      "14     0\n",
      "15     0\n",
      "16     0\n",
      "17     0\n",
      "18     0\n",
      "19     0\n",
      "20     0\n",
      "21     0\n",
      "22     0\n",
      "23     0\n",
      "24     0\n",
      "25     0\n",
      "26     0\n",
      "27     0\n",
      "28     0\n",
      "29     0\n",
      "      ..\n",
      "120    2\n",
      "121    2\n",
      "122    2\n",
      "123    2\n",
      "124    2\n",
      "125    2\n",
      "126    2\n",
      "127    2\n",
      "128    2\n",
      "129    2\n",
      "130    2\n",
      "131    2\n",
      "132    2\n",
      "133    2\n",
      "134    2\n",
      "135    2\n",
      "136    2\n",
      "137    2\n",
      "138    2\n",
      "139    2\n",
      "140    2\n",
      "141    2\n",
      "142    2\n",
      "143    2\n",
      "144    2\n",
      "145    2\n",
      "146    2\n",
      "147    2\n",
      "148    2\n",
      "149    2\n",
      "Name: species, Length: 150, dtype: int64\n",
      "0.0\n"
     ]
    }
   ],
   "source": [
    "predictions = iris_model.predict(X)\n",
    "print(predictions)\n",
    "print(y)\n",
    "\n",
    "from sklearn.metrics import mean_absolute_error\n",
    "mae = mean_absolute_error(y, predictions)\n",
    "print(mae)"
   ]
  },
  {
   "cell_type": "markdown",
   "metadata": {},
   "source": [
    "So far I've got mean absolute error fo 0 which is great but actually is meaningless because I haven't broken up my data yet into two groups.\n",
    "Next I'm going to try to validate my model, to do this I will split my data into training and validation groups, the training data will go into the model, the validating data will be left to the side to later act as a test for how accurate our model is."
   ]
  },
  {
   "cell_type": "code",
   "execution_count": 159,
   "metadata": {},
   "outputs": [
    {
     "name": "stdout",
     "output_type": "stream",
     "text": [
      "[2. 1. 0. 2. 0. 2. 0. 1. 1. 1. 2. 1. 1. 1. 1. 0. 1. 1. 0. 0. 2. 1. 0. 0.\n",
      " 2. 0. 0. 1. 1. 0. 2. 1. 0. 2. 2. 1. 0. 2.]\n"
     ]
    }
   ],
   "source": [
    "from sklearn.model_selection import train_test_split\n",
    "\n",
    "# Supplying a numeric value to the random_state argument guarantees we get the same split every time this script is ran.\n",
    "train_X, val_X, train_y, val_y = train_test_split(X, y, random_state=0)\n",
    "# Define model\n",
    "iris_model = DecisionTreeRegressor(random_state=0)\n",
    "# Fit model\n",
    "iris_model.fit(train_X, train_y)\n",
    "\n",
    "# get predicted category on validation data\n",
    "val_predictions = iris_model.predict(val_X)\n",
    "#print the predicted values for Y\n",
    "print(val_predictions)"
   ]
  },
  {
   "cell_type": "code",
   "execution_count": null,
   "metadata": {},
   "outputs": [],
   "source": []
  },
  {
   "cell_type": "code",
   "execution_count": 160,
   "metadata": {},
   "outputs": [
    {
     "name": "stdout",
     "output_type": "stream",
     "text": [
      "TRUE\n",
      "TRUE\n",
      "TRUE\n",
      "TRUE\n",
      "TRUE\n",
      "TRUE\n",
      "TRUE\n",
      "TRUE\n",
      "TRUE\n",
      "TRUE\n",
      "TRUE\n",
      "TRUE\n",
      "TRUE\n",
      "TRUE\n",
      "TRUE\n",
      "TRUE\n",
      "TRUE\n",
      "TRUE\n",
      "TRUE\n",
      "TRUE\n",
      "TRUE\n",
      "TRUE\n",
      "TRUE\n",
      "TRUE\n",
      "TRUE\n",
      "TRUE\n",
      "TRUE\n",
      "TRUE\n",
      "TRUE\n",
      "TRUE\n",
      "TRUE\n",
      "TRUE\n",
      "TRUE\n",
      "TRUE\n",
      "TRUE\n",
      "TRUE\n",
      "TRUE\n",
      "FALSE\n"
     ]
    }
   ],
   "source": [
    "#compare whether the two are returning the same values at each index, this is to visually show whether we've matches or not\n",
    "for i in range(len(val_y)):\n",
    "    if val_y.iloc[i] == val_predictions[i]:\n",
    "        print(\"TRUE\")\n",
    "    else:\n",
    "        print(\"FALSE\")"
   ]
  },
  {
   "cell_type": "code",
   "execution_count": 161,
   "metadata": {},
   "outputs": [
    {
     "name": "stdout",
     "output_type": "stream",
     "text": [
      "0.02631578947368421\n"
     ]
    }
   ],
   "source": [
    "#get the mean absolute error like before\n",
    "print(mean_absolute_error(val_y, val_predictions))"
   ]
  },
  {
   "cell_type": "code",
   "execution_count": 162,
   "metadata": {},
   "outputs": [
    {
     "name": "stdout",
     "output_type": "stream",
     "text": [
      "0.02631578947368421\n"
     ]
    }
   ],
   "source": [
    "#get the mean absolute error like before\n",
    "print(mean_absolute_error(val_y, val_predictions))"
   ]
  },
  {
   "cell_type": "markdown",
   "metadata": {},
   "source": [
    "I'm going to add a function next to take in our training and validating data and also use a max_leaf_node argument"
   ]
  },
  {
   "cell_type": "code",
   "execution_count": 163,
   "metadata": {},
   "outputs": [],
   "source": [
    "def get_mae(max_leaf_nodes, train_X, val_X, train_y, val_y):\n",
    "    model = DecisionTreeRegressor(max_leaf_nodes=max_leaf_nodes, random_state=0)\n",
    "    model.fit(train_X, train_y)\n",
    "    preds_val = model.predict(val_X)\n",
    "    mae = mean_absolute_error(val_y, preds_val)\n",
    "    return(mae)"
   ]
  },
  {
   "cell_type": "markdown",
   "metadata": {},
   "source": [
    "Going to use this function then to try determine the max amount of leaf nodes to have in my decision tree model"
   ]
  },
  {
   "cell_type": "code",
   "execution_count": 164,
   "metadata": {},
   "outputs": [
    {
     "name": "stdout",
     "output_type": "stream",
     "text": [
      "25\n"
     ]
    }
   ],
   "source": [
    "candidate_max_leaf_nodes = [5, 25, 50, 100, 250, 500]\n",
    "# Write loop to find the ideal tree size from candidate_max_leaf_nodes\n",
    "leaf_mae_dict = {}\n",
    "for i in candidate_max_leaf_nodes:\n",
    "    test = get_mae(i, train_X, val_X, train_y, val_y)\n",
    "    leaf_mae_dict[i] = test\n",
    "# Store the best value of max_leaf_nodes (it will be either 5, 25, 50, 100, 250 or 500)\n",
    "best_leaf_node_count = int(min(leaf_mae_dict, key=leaf_mae_dict.get))\n",
    "print(best_leaf_node_count)\n",
    "best_tree_size = best_leaf_node_count"
   ]
  },
  {
   "cell_type": "markdown",
   "metadata": {},
   "source": [
    "So it look's like 25 is the best number of nodes, and printing all the mean absolute error for the different nodes shows us that it doesn't improve accuracy after 25"
   ]
  },
  {
   "cell_type": "code",
   "execution_count": 165,
   "metadata": {},
   "outputs": [
    {
     "name": "stdout",
     "output_type": "stream",
     "text": [
      "{5: 0.029689608636977047, 25: 0.02631578947368421, 50: 0.02631578947368421, 100: 0.02631578947368421, 250: 0.02631578947368421, 500: 0.02631578947368421}\n"
     ]
    }
   ],
   "source": [
    "print(leaf_mae_dict)"
   ]
  },
  {
   "cell_type": "markdown",
   "metadata": {},
   "source": [
    "We can probably do better than 25, so I'm going to go from 4-10 in this next cell"
   ]
  },
  {
   "cell_type": "code",
   "execution_count": 172,
   "metadata": {},
   "outputs": [
    {
     "name": "stdout",
     "output_type": "stream",
     "text": [
      "6\n",
      "{4: 0.049426450742240204, 5: 0.029689608636977047, 6: 0.02631578947368421, 7: 0.02631578947368421, 8: 0.02631578947368421, 9: 0.02631578947368421, 10: 0.02631578947368421}\n"
     ]
    }
   ],
   "source": [
    "candidate_max_leaf_nodes = [4,5,6, 7, 8, 9,10]\n",
    "# Write loop to find the ideal tree size from candidate_max_leaf_nodes\n",
    "leaf_mae_dict = {}\n",
    "for i in candidate_max_leaf_nodes:\n",
    "    test = get_mae(i, train_X, val_X, train_y, val_y)\n",
    "    leaf_mae_dict[i] = test\n",
    "# Store the best value of max_leaf_nodes (it will be either 5, 25, 50, 100, 250 or 500)\n",
    "best_leaf_node_count = int(min(leaf_mae_dict, key=leaf_mae_dict.get))\n",
    "print(best_leaf_node_count)\n",
    "best_tree_size = best_leaf_node_count\n",
    "print(leaf_mae_dict)"
   ]
  },
  {
   "cell_type": "markdown",
   "metadata": {},
   "source": [
    "So now we know that 6 is the most efficient number of nodes to pick if we hant the highest accuracy for our decision tree model.\n",
    "I'm going to reapply this max nodes and redo my model, this time I will also save it to an image"
   ]
  },
  {
   "cell_type": "code",
   "execution_count": 201,
   "metadata": {},
   "outputs": [
    {
     "name": "stdout",
     "output_type": "stream",
     "text": [
      "[2. 1. 0. 2. 0. 2. 0. 1. 1. 1. 2. 1. 1. 1. 1. 0. 1. 1. 0. 0. 2. 1. 0. 0.\n",
      " 2. 0. 0. 1. 1. 0. 2. 1. 0. 2. 2. 1. 0. 2.]\n"
     ]
    }
   ],
   "source": [
    "# Supplying a numeric value to the random_state argument guarantees we get the same split every time this script is ran.\n",
    "train_X, val_X, train_y, val_y = train_test_split(X, y, random_state=0)\n",
    "# Define model\n",
    "iris_model = DecisionTreeRegressor(random_state=0, max_leaf_nodes=7)\n",
    "# Fit model\n",
    "iris_model.fit(train_X, train_y)\n",
    "\n",
    "# get predicted category on validation data\n",
    "val_predictions = iris_model.predict(val_X)\n",
    "#print the predicted values for Y\n",
    "print(val_predictions)"
   ]
  },
  {
   "cell_type": "code",
   "execution_count": 202,
   "metadata": {},
   "outputs": [
    {
     "name": "stdout",
     "output_type": "stream",
     "text": [
      "0.02631578947368421\n"
     ]
    }
   ],
   "source": [
    "#get the mean absolute error like before\n",
    "print(mean_absolute_error(val_y, val_predictions))"
   ]
  },
  {
   "cell_type": "code",
   "execution_count": 203,
   "metadata": {},
   "outputs": [],
   "source": [
    "#This is a weird 'hack' to get the correct path environment when using conda for graphviz\n",
    "\n",
    "import os\n",
    "os.environ['PATH'] = os.environ['PATH']+';'+os.environ['CONDA_PREFIX']+r\"\\Library\\bin\\graphviz\""
   ]
  },
  {
   "cell_type": "code",
   "execution_count": 204,
   "metadata": {},
   "outputs": [
    {
     "data": {
      "image/png": "[encoded data removed]",
      "text/plain": [
       "<IPython.core.display.Image object>"
      ]
     },
     "execution_count": 204,
     "metadata": {},
     "output_type": "execute_result"
    }
   ],
   "source": [
    "#Using graphviz to visualise the decision tree\n",
    "from sklearn.externals.six import StringIO  \n",
    "from IPython.display import Image  \n",
    "from sklearn.tree import export_graphviz\n",
    "import pydotplus\n",
    "\n",
    "dot_data = StringIO()\n",
    "\n",
    "export_graphviz(iris_model, out_file=dot_data,  \n",
    "                filled=True, rounded=True,\n",
    "                special_characters=True)\n",
    "graph = pydotplus.graph_from_dot_data(dot_data.getvalue())  \n",
    "Image(graph.create_png())"
   ]
  },
  {
   "cell_type": "code",
   "execution_count": null,
   "metadata": {},
   "outputs": [],
   "source": []
  },
  {
   "cell_type": "code",
   "execution_count": null,
   "metadata": {},
   "outputs": [],
   "source": []
  },
  {
   "cell_type": "code",
   "execution_count": null,
   "metadata": {},
   "outputs": [],
   "source": []
  },
  {
   "cell_type": "code",
   "execution_count": null,
   "metadata": {},
   "outputs": [],
   "source": []
  },
  {
   "cell_type": "code",
   "execution_count": null,
   "metadata": {},
   "outputs": [],
   "source": []
  }
 ],
 "metadata": {
  "kernelspec": {
   "display_name": "Python 3",
   "language": "python",
   "name": "python3"
  },
  "language_info": {
   "codemirror_mode": {
    "name": "ipython",
    "version": 3
   },
   "file_extension": ".py",
   "mimetype": "text/x-python",
   "name": "python",
   "nbconvert_exporter": "python",
   "pygments_lexer": "ipython3",
   "version": "3.7.3"
  }
 },
 "nbformat": 4,
 "nbformat_minor": 2
}
